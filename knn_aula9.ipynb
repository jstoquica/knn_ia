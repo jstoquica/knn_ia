{
  "nbformat": 4,
  "nbformat_minor": 0,
  "metadata": {
    "colab": {
      "provenance": [],
      "authorship_tag": "ABX9TyMaqMtEyThqjHk0LIpAGsEY",
      "include_colab_link": true
    },
    "kernelspec": {
      "name": "python3",
      "display_name": "Python 3"
    },
    "language_info": {
      "name": "python"
    }
  },
  "cells": [
    {
      "cell_type": "markdown",
      "metadata": {
        "id": "view-in-github",
        "colab_type": "text"
      },
      "source": [
        "<a href=\"https://colab.research.google.com/github/jstoquica/knn_ia/blob/main/knn_aula9.ipynb\" target=\"_parent\"><img src=\"https://colab.research.google.com/assets/colab-badge.svg\" alt=\"Open In Colab\"/></a>"
      ]
    },
    {
      "cell_type": "markdown",
      "source": [
        "#Basic requeriments"
      ],
      "metadata": {
        "id": "A3zw9Z51bk71"
      }
    },
    {
      "cell_type": "code",
      "execution_count": null,
      "metadata": {
        "id": "i9PjtIO7gEDZ"
      },
      "outputs": [],
      "source": [
        "!pip install git+https://github.com/deepvision-class/starter-code"
      ]
    },
    {
      "cell_type": "markdown",
      "source": [
        "#Initial Setup"
      ],
      "metadata": {
        "id": "tBOtBr-MgUGv"
      }
    },
    {
      "cell_type": "code",
      "source": [
        "import coutils\n",
        "import torch\n",
        "import torchvision\n",
        "import matplotlib.pyplot as plt\n",
        "import statistics\n",
        "import random\n",
        "from torchvision.utils import make_grid\n",
        "\n",
        "plt.rcParams['figure.figsize'] = (10.0, 8.0)\n",
        "plt.rcParams['font.size'] = 16"
      ],
      "metadata": {
        "id": "DR0_zTZYgXje"
      },
      "execution_count": null,
      "outputs": []
    },
    {
      "cell_type": "markdown",
      "source": [
        "### Load Dataset  "
      ],
      "metadata": {
        "id": "AJ3TSQp7iBr-"
      }
    },
    {
      "cell_type": "code",
      "source": [
        "x_train, y_train, x_test, y_test = coutils.data.cifar10()\n",
        "print('Training set:', )\n",
        "print('  data shape:', x_train.shape)\n",
        "print('  labels shape: ', y_train.shape)\n",
        "print('Test set:')\n",
        "print('  data shape: ', x_test.shape)\n",
        "print('  labels shape', y_test.shape)"
      ],
      "metadata": {
        "id": "cmQAI6wbiJIE"
      },
      "execution_count": null,
      "outputs": []
    },
    {
      "cell_type": "markdown",
      "source": [
        "##Visualize the dataset"
      ],
      "metadata": {
        "id": "26KWPNwgjHNj"
      }
    },
    {
      "cell_type": "code",
      "source": [],
      "metadata": {
        "id": "3Q6ZYCj_i06O"
      },
      "execution_count": null,
      "outputs": []
    },
    {
      "cell_type": "code",
      "source": [
        "classes = ['plane', 'car', 'bird', 'cat', 'deer', 'dog', 'frog', 'horse', 'ship', 'truck']\n",
        "samples_per_class = 5\n",
        "samples = []\n",
        "\n",
        "for y, cls in enumerate(classes):\n",
        "  plt.text(-4, 34 * y + 18, cls, ha='right')\n",
        "  idxs = (y_train == y).nonzero().view(-1)\n",
        "  for i in range(samples_per_class):\n",
        "    idx = idxs[random.randrange(idxs.shape[0])].item()\n",
        "    samples.append(x_train[idx])\n",
        "\n",
        "img = torchvision.utils.make_grid(samples, nrow=samples_per_class)\n",
        "plt.imshow(coutils.tensor_to_image(img))\n",
        "plt.axis('off')\n",
        "plt.show()\n"
      ],
      "metadata": {
        "id": "oOhm3B87jrrT"
      },
      "execution_count": null,
      "outputs": []
    },
    {
      "cell_type": "markdown",
      "source": [
        "#Subsample the dataset"
      ],
      "metadata": {
        "id": "H6OjF6_BmnS-"
      }
    },
    {
      "cell_type": "code",
      "source": [
        "num_train = 1000\n",
        "num_test = 500\n",
        "\n",
        "x_train, y_train, x_test, y_test = coutils.data.cifar10(num_train, num_test)\n",
        "\n",
        "print('Training set:', )\n",
        "print('  data shape:', x_train.shape)\n",
        "print('  labels shape: ', y_train.shape)\n",
        "print('Test set:')\n",
        "print('  data shape: ', x_test.shape)\n",
        "print('  labels shape', y_test.shape)"
      ],
      "metadata": {
        "id": "mJCjp6A9l-SJ"
      },
      "execution_count": null,
      "outputs": []
    },
    {
      "cell_type": "markdown",
      "source": [
        "#Compute distances"
      ],
      "metadata": {
        "id": "dA1qcEdgnUxo"
      }
    },
    {
      "cell_type": "code",
      "source": [
        "def compute_distances_two_loops(x_train, x_test):\n",
        "  num_train = x_train.shape[0]\n",
        "  num_test = x_test.shape[0]\n",
        "  dists = x_train.new_zeros(num_train, num_test)\n",
        "  ############\n",
        "  for i in range(num_train):\n",
        "    for j in range(num_test):\n",
        "      dists[i,j] = ((x_train[i] -x_test[j])**2).sum()**(1/2)\n",
        "  ############\n",
        "  return dists\n"
      ],
      "metadata": {
        "id": "E_Zpi-jgnJzn"
      },
      "execution_count": null,
      "outputs": []
    },
    {
      "cell_type": "code",
      "source": [
        "num_train = 1000\n",
        "num_test = 500\n",
        "\n",
        "x_train, y_train, x_test, y_test = coutils.data.cifar10(num_train, num_test)\n",
        "dists = compute_distances_two_loops(x_train, x_test)\n",
        "print('dists shape', dists.shape)"
      ],
      "metadata": {
        "id": "SJai0422oKyz"
      },
      "execution_count": null,
      "outputs": []
    },
    {
      "cell_type": "code",
      "source": [
        "def compute_distances_one_loop(x_train, x_test):\n",
        "  num_train = x_train.shape[0]\n",
        "  num_test = x_test.shape[0]\n",
        "  dists = x_train.new_zeros(num_train, num_test)\n",
        "  ###########\n",
        "  for i in range(num_train):\n",
        "      dists[i] = ((x_train[i] -x_test)**2).sum(dim  = (1,2,3))**(1/2)\n",
        "  ###########\n",
        "  return dists"
      ],
      "metadata": {
        "id": "g8tXp4S5omFR"
      },
      "execution_count": null,
      "outputs": []
    },
    {
      "cell_type": "code",
      "source": [
        "torch.manual_seed(0)\n",
        "x_train_rand = torch.randn(100, 3, 16, 16, dtype=torch.float64)\n",
        "x_test_rand = torch.randn(100, 3, 16, 16, dtype=torch.float64)\n",
        "\n",
        "dists_one = compute_distances_one_loop(x_train_rand, x_test_rand)\n",
        "dists_two = compute_distances_two_loops(x_train_rand, x_test_rand)\n",
        "difference = (dists_one - dists_two).pow(2).sum().sqrt().item()"
      ],
      "metadata": {
        "id": "ibauOyDqpRJk"
      },
      "execution_count": null,
      "outputs": []
    },
    {
      "cell_type": "code",
      "source": [
        "def compute_distances_no_loops(x_train, x_test):\n",
        "  num_train = x_train.shape[0]\n",
        "  num_test = x_test.shape[0]\n",
        "  dists = x_train.new_zeros(num_train, num_test)\n",
        "  #################################\n",
        "  A = x_train.reshape(num_train,-1)\n",
        "  B = x_test.reshape(num_test,-1)\n",
        "  AB2 = A.mm(B.T)*2\n",
        "  #################################\n",
        "  dists = ((A**2).sum(dim = 1).reshape(-1,1) - AB2 + (B**2).sum(dim = 1).reshape(1,-1))**(1/2)\n",
        "  return dists"
      ],
      "metadata": {
        "id": "4xBPXCzcqQuM"
      },
      "execution_count": null,
      "outputs": []
    },
    {
      "cell_type": "code",
      "source": [
        "def predict_labels(dists, y_train, k=1):\n",
        "  num_train, num_test = dists.shape\n",
        "  y_pred = torch.zeros(num_test, dtype=torch.int64)\n",
        "  #############\n",
        "  values, indices = torch.topk(dists, k, dim=0, largest=False)\n",
        "  for i in range(indices.shape[1]):\n",
        "    _, idx = torch.max(y_train[indices[:,i]].bincount(), dim = 0)\n",
        "    y_pred[i] = idx\n",
        "  #############\n",
        "  return y_pred"
      ],
      "metadata": {
        "id": "Y0GFA6fBq9BO"
      },
      "execution_count": null,
      "outputs": []
    },
    {
      "cell_type": "markdown",
      "source": [
        "##kNN"
      ],
      "metadata": {
        "id": "6ddfudVtreym"
      }
    },
    {
      "cell_type": "code",
      "source": [
        "class KnnClassifier:\n",
        "  def __init__(self, x_train, y_train):\n",
        "    self.x_train = x_train.contiguous()\n",
        "    self.y_train = y_train.contiguous()\n",
        "  def predict(self, x_test, k=1):\n",
        "    dists = compute_distances_one_loop(self.x_train, x_test.contiguous())\n",
        "    y_test_pred = predict_labels(dists, self.y_train, k=k)\n",
        "    return y_test_pred\n",
        "  def check_accuracy(self, x_test, y_test, k=1, quiet=False):\n",
        "    y_test_pred = self.predict(x_test, k=k)\n",
        "    num_samples = x_test.shape[0]\n",
        "    num_correct = (y_test == y_test_pred).sum().item()\n",
        "    accuracy = 100.0 * num_correct / num_samples\n",
        "    msg = (f'Got {num_correct} / {num_samples} correct; '\n",
        "           f'accuracy is {accuracy:.2f}%')\n",
        "    if not quiet:\n",
        "      print(msg)\n",
        "    return accuracy"
      ],
      "metadata": {
        "id": "Dm82oIYsrPkS"
      },
      "execution_count": null,
      "outputs": []
    },
    {
      "cell_type": "code",
      "source": [
        "num_train = 10000\n",
        "num_test = 2000\n",
        "x_train, y_train, x_test, y_test = coutils.data.cifar10(num_train, num_test)\n",
        "\n",
        "classifier = KnnClassifier(x_train, y_train)\n",
        "classifier.check_accuracy(x_test, y_test, k=4)"
      ],
      "metadata": {
        "id": "QM9_xOnuwrWr"
      },
      "execution_count": null,
      "outputs": []
    },
    {
      "cell_type": "markdown",
      "source": [
        "#Bibliografy:\n",
        "\n",
        "Based on assignment 1 from https://web.eecs.umich.edu/~justincj/teaching/eecs498/WI2022/assignment1.html\n",
        "\n"
      ],
      "metadata": {
        "id": "xDrWV01sWqoG"
      }
    },
    {
      "cell_type": "code",
      "source": [],
      "metadata": {
        "id": "XJ3CrDVww6F7"
      },
      "execution_count": null,
      "outputs": []
    }
  ]
}